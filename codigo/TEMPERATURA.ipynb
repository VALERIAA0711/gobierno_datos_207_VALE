{
  "nbformat": 4,
  "nbformat_minor": 0,
  "metadata": {
    "colab": {
      "provenance": []
    },
    "kernelspec": {
      "name": "python3",
      "display_name": "Python 3"
    },
    "language_info": {
      "name": "python"
    }
  },
  "cells": [
    {
      "cell_type": "code",
      "source": [
        "import pandas as pd\n",
        "\n",
        "# Cargar el archivo\n",
        "df = pd.read_excel(\"TEMPERATURA OK.xlsx\", sheet_name=\"Hoja1\")\n",
        "\n",
        "# 1. Valores en blanco\n",
        "missing_data = df.isnull().sum()\n",
        "\n",
        "# 2. Valores fuera de rango\n",
        "out_of_range = {\n",
        "    \"Temperatura Max muy alta (>60)\": (df[\"TEMPERATURA MAX\"] > 60).sum(),\n",
        "    \"Temperatura Max muy baja (<-50)\": (df[\"TEMPERATURA MAX\"] < -50).sum(),\n",
        "    \"Temperatura Min muy alta (>60)\": (df[\"TEMPERATURA MIN\"] > 60).sum(),\n",
        "    \"Temperatura Min muy baja (<-50)\": (df[\"TEMPERATURA MIN\"] < -50).sum(),\n",
        "    \"Precipitación negativa\": (df[\"PRECIPITACION ACUMULADA\"] < 0).sum(),\n",
        "}\n",
        "\n",
        "# 3. Fechas inválidas\n",
        "from datetime import datetime\n",
        "\n",
        "def validar_fecha(row):\n",
        "    try:\n",
        "        datetime(int(row[\"AÑO\"]), int(row[\"MES\"]), int(row[\"DIA\"]))\n",
        "        return True\n",
        "    except:\n",
        "        return False\n",
        "\n",
        "df[\"fecha_valida\"] = df.apply(validar_fecha, axis=1)\n",
        "fechas_invalidas = (~df[\"fecha_valida\"]).sum()\n",
        "\n",
        "# Resultados\n",
        "print(\"1. Valores en blanco:\\n\", missing_data)\n",
        "print(\"\\n2. Valores fuera de rango:\\n\", out_of_range)\n",
        "print(f\"\\n3. Fechas inválidas: {fechas_invalidas}\")\n"
      ],
      "metadata": {
        "colab": {
          "base_uri": "https://localhost:8080/"
        },
        "id": "6mM4XJFRTo8u",
        "outputId": "bb2a3431-d7d0-4304-c0ac-e8d7150779aa"
      },
      "execution_count": 1,
      "outputs": [
        {
          "output_type": "stream",
          "name": "stdout",
          "text": [
            "1. Valores en blanco:\n",
            " AÑO                        0\n",
            "MES                        0\n",
            "DIA                        0\n",
            "PRECIPITACION ACUMULADA    0\n",
            "TEMPERATURA MAX            0\n",
            "TEMPERATURA MIN            0\n",
            "dtype: int64\n",
            "\n",
            "2. Valores fuera de rango:\n",
            " {'Temperatura Max muy alta (>60)': np.int64(0), 'Temperatura Max muy baja (<-50)': np.int64(62), 'Temperatura Min muy alta (>60)': np.int64(0), 'Temperatura Min muy baja (<-50)': np.int64(62), 'Precipitación negativa': np.int64(62)}\n",
            "\n",
            "3. Fechas inválidas: 0\n"
          ]
        }
      ]
    },
    {
      "cell_type": "code",
      "source": [
        "import pandas as pd\n",
        "\n",
        "# Cargar el archivo\n",
        "df = pd.read_excel(\"TEMPERATURA OK.xlsx\", sheet_name=\"Hoja1\")\n",
        "\n",
        "# Definir condiciones fuera de rango\n",
        "fuera_rango_max = (df[\"TEMPERATURA MAX\"] < -50) | (df[\"TEMPERATURA MAX\"] > 60)\n",
        "fuera_rango_min = (df[\"TEMPERATURA MIN\"] < -50) | (df[\"TEMPERATURA MIN\"] > 50)\n",
        "fuera_rango_prec = df[\"PRECIPITACION ACUMULADA\"] < 0\n",
        "\n",
        "# Filtrar los datos fuera de rango\n",
        "datos_fuera_rango = df[fuera_rango_max | fuera_rango_min | fuera_rango_prec]\n",
        "\n",
        "# Mostrar el resultado\n",
        "print(\"Datos fuera de los rangos establecidos:\")\n",
        "print(datos_fuera_rango)\n"
      ],
      "metadata": {
        "colab": {
          "base_uri": "https://localhost:8080/"
        },
        "id": "HgGt1B0xcdup",
        "outputId": "dd41bbe0-40f4-4dfd-84f7-4b945880a78d"
      },
      "execution_count": 18,
      "outputs": [
        {
          "output_type": "stream",
          "name": "stdout",
          "text": [
            "Datos fuera de los rangos establecidos:\n",
            "      AÑO  MES  DIA  PRECIPITACION ACUMULADA  TEMPERATURA MAX  TEMPERATURA MIN\n",
            "579  2024   12    1                    -99.9            -99.9            -99.9\n",
            "580  2024   12    2                    -99.9            -99.9            -99.9\n",
            "581  2024   12    3                    -99.9            -99.9            -99.9\n",
            "582  2024   12    4                    -99.9            -99.9            -99.9\n",
            "583  2024   12    5                    -99.9            -99.9            -99.9\n",
            "..    ...  ...  ...                      ...              ...              ...\n",
            "636  2025    1   27                    -99.9            -99.9            -99.9\n",
            "637  2025    1   28                    -99.9            -99.9            -99.9\n",
            "638  2025    1   29                    -99.9            -99.9            -99.9\n",
            "639  2025    1   30                    -99.9            -99.9            -99.9\n",
            "640  2025    1   31                    -99.9            -99.9            -99.9\n",
            "\n",
            "[62 rows x 6 columns]\n"
          ]
        }
      ]
    },
    {
      "cell_type": "code",
      "source": [
        "import pandas as pd\n",
        "\n",
        "# Cargar el archivo\n",
        "df = pd.read_excel(\"TEMPERATURA OK.xlsx\", sheet_name=\"Hoja1\")\n",
        "\n",
        "# Definir condiciones fuera de rango\n",
        "fuera_rango_max = (df[\"TEMPERATURA MAX\"] < -50) | (df[\"TEMPERATURA MAX\"] > 60)\n",
        "fuera_rango_min = (df[\"TEMPERATURA MIN\"] < -50) | (df[\"TEMPERATURA MIN\"] > 50)\n",
        "fuera_rango_prec = df[\"PRECIPITACION ACUMULADA\"] < 0\n",
        "\n",
        "# Unir todas las condiciones\n",
        "fuera_rango = fuera_rango_max | fuera_rango_min | fuera_rango_prec\n",
        "\n",
        "# Filtrar registros fuera de rango\n",
        "datos_fuera_rango = df[fuera_rango]\n",
        "\n",
        "# Agrupar por mes y contar\n",
        "conteo_por_mes = datos_fuera_rango.groupby(\"MES\").size().reset_index(name=\"Cantidad de datos fuera de rango\")\n",
        "\n",
        "# Mostrar resultado\n",
        "print(conteo_por_mes)\n"
      ],
      "metadata": {
        "colab": {
          "base_uri": "https://localhost:8080/"
        },
        "id": "AvqQg_75csZz",
        "outputId": "edd67143-cb75-4f51-f325-c8f1484f832e"
      },
      "execution_count": 19,
      "outputs": [
        {
          "output_type": "stream",
          "name": "stdout",
          "text": [
            "   MES  Cantidad de datos fuera de rango\n",
            "0    1                                31\n",
            "1   12                                31\n"
          ]
        }
      ]
    },
    {
      "cell_type": "markdown",
      "source": [],
      "metadata": {
        "id": "-_iKKL1ub6SK"
      }
    }
  ]
}
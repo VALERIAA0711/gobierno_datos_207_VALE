{
  "nbformat": 4,
  "nbformat_minor": 0,
  "metadata": {
    "colab": {
      "provenance": []
    },
    "kernelspec": {
      "name": "python3",
      "display_name": "Python 3"
    },
    "language_info": {
      "name": "python"
    }
  },
  "cells": [
    {
      "cell_type": "code",
      "execution_count": 1,
      "metadata": {
        "colab": {
          "base_uri": "https://localhost:8080/"
        },
        "id": "qzKULekXbSGx",
        "outputId": "2d4629cb-1508-490e-eb54-c1a17f7e3adb"
      },
      "outputs": [
        {
          "output_type": "stream",
          "name": "stdout",
          "text": [
            "Collecting lxml_html_clean\n",
            "  Downloading lxml_html_clean-0.4.1-py3-none-any.whl.metadata (2.4 kB)\n",
            "Requirement already satisfied: lxml in /usr/local/lib/python3.11/dist-packages (from lxml_html_clean) (5.3.1)\n",
            "Downloading lxml_html_clean-0.4.1-py3-none-any.whl (14 kB)\n",
            "Installing collected packages: lxml_html_clean\n",
            "Successfully installed lxml_html_clean-0.4.1\n"
          ]
        }
      ],
      "source": [
        "!pip install lxml_html_clean"
      ]
    },
    {
      "cell_type": "code",
      "source": [
        "!pip install 'lxml[html_clean]'"
      ],
      "metadata": {
        "colab": {
          "base_uri": "https://localhost:8080/"
        },
        "id": "ukvi933rbad9",
        "outputId": "8d6d975c-ca0b-4c3a-aa6c-1505bff434ab"
      },
      "execution_count": 2,
      "outputs": [
        {
          "output_type": "stream",
          "name": "stdout",
          "text": [
            "Requirement already satisfied: lxml[html_clean] in /usr/local/lib/python3.11/dist-packages (5.3.1)\n",
            "Requirement already satisfied: lxml_html_clean in /usr/local/lib/python3.11/dist-packages (from lxml[html_clean]) (0.4.1)\n"
          ]
        }
      ]
    },
    {
      "cell_type": "code",
      "source": [
        "!pip install newspaper3k tldextract\n",
        "!pip install 'lxml[html_clean]'\n"
      ],
      "metadata": {
        "colab": {
          "base_uri": "https://localhost:8080/"
        },
        "id": "Z8cf8Y98bd7l",
        "outputId": "34314ac7-6536-49a0-ab52-3d801ee64aec"
      },
      "execution_count": 4,
      "outputs": [
        {
          "output_type": "stream",
          "name": "stdout",
          "text": [
            "Collecting newspaper3k\n",
            "  Downloading newspaper3k-0.2.8-py3-none-any.whl.metadata (11 kB)\n",
            "Collecting tldextract\n",
            "  Downloading tldextract-5.1.3-py3-none-any.whl.metadata (11 kB)\n",
            "Requirement already satisfied: beautifulsoup4>=4.4.1 in /usr/local/lib/python3.11/dist-packages (from newspaper3k) (4.13.3)\n",
            "Requirement already satisfied: Pillow>=3.3.0 in /usr/local/lib/python3.11/dist-packages (from newspaper3k) (11.1.0)\n",
            "Requirement already satisfied: PyYAML>=3.11 in /usr/local/lib/python3.11/dist-packages (from newspaper3k) (6.0.2)\n",
            "Collecting cssselect>=0.9.2 (from newspaper3k)\n",
            "  Downloading cssselect-1.3.0-py3-none-any.whl.metadata (2.6 kB)\n",
            "Requirement already satisfied: lxml>=3.6.0 in /usr/local/lib/python3.11/dist-packages (from newspaper3k) (5.3.1)\n",
            "Requirement already satisfied: nltk>=3.2.1 in /usr/local/lib/python3.11/dist-packages (from newspaper3k) (3.9.1)\n",
            "Requirement already satisfied: requests>=2.10.0 in /usr/local/lib/python3.11/dist-packages (from newspaper3k) (2.32.3)\n",
            "Collecting feedparser>=5.2.1 (from newspaper3k)\n",
            "  Downloading feedparser-6.0.11-py3-none-any.whl.metadata (2.4 kB)\n",
            "Collecting feedfinder2>=0.0.4 (from newspaper3k)\n",
            "  Downloading feedfinder2-0.0.4.tar.gz (3.3 kB)\n",
            "  Preparing metadata (setup.py) ... \u001b[?25l\u001b[?25hdone\n",
            "Collecting jieba3k>=0.35.1 (from newspaper3k)\n",
            "  Downloading jieba3k-0.35.1.zip (7.4 MB)\n",
            "\u001b[2K     \u001b[90m━━━━━━━━━━━━━━━━━━━━━━━━━━━━━━━━━━━━━━━━\u001b[0m \u001b[32m7.4/7.4 MB\u001b[0m \u001b[31m102.5 MB/s\u001b[0m eta \u001b[36m0:00:00\u001b[0m\n",
            "\u001b[?25h  Preparing metadata (setup.py) ... \u001b[?25l\u001b[?25hdone\n",
            "Requirement already satisfied: python-dateutil>=2.5.3 in /usr/local/lib/python3.11/dist-packages (from newspaper3k) (2.8.2)\n",
            "Collecting tinysegmenter==0.3 (from newspaper3k)\n",
            "  Downloading tinysegmenter-0.3.tar.gz (16 kB)\n",
            "  Preparing metadata (setup.py) ... \u001b[?25l\u001b[?25hdone\n",
            "Requirement already satisfied: idna in /usr/local/lib/python3.11/dist-packages (from tldextract) (3.10)\n",
            "Collecting requests-file>=1.4 (from tldextract)\n",
            "  Downloading requests_file-2.1.0-py2.py3-none-any.whl.metadata (1.7 kB)\n",
            "Requirement already satisfied: filelock>=3.0.8 in /usr/local/lib/python3.11/dist-packages (from tldextract) (3.18.0)\n",
            "Requirement already satisfied: soupsieve>1.2 in /usr/local/lib/python3.11/dist-packages (from beautifulsoup4>=4.4.1->newspaper3k) (2.6)\n",
            "Requirement already satisfied: typing-extensions>=4.0.0 in /usr/local/lib/python3.11/dist-packages (from beautifulsoup4>=4.4.1->newspaper3k) (4.13.0)\n",
            "Requirement already satisfied: six in /usr/local/lib/python3.11/dist-packages (from feedfinder2>=0.0.4->newspaper3k) (1.17.0)\n",
            "Collecting sgmllib3k (from feedparser>=5.2.1->newspaper3k)\n",
            "  Downloading sgmllib3k-1.0.0.tar.gz (5.8 kB)\n",
            "  Preparing metadata (setup.py) ... \u001b[?25l\u001b[?25hdone\n",
            "Requirement already satisfied: click in /usr/local/lib/python3.11/dist-packages (from nltk>=3.2.1->newspaper3k) (8.1.8)\n",
            "Requirement already satisfied: joblib in /usr/local/lib/python3.11/dist-packages (from nltk>=3.2.1->newspaper3k) (1.4.2)\n",
            "Requirement already satisfied: regex>=2021.8.3 in /usr/local/lib/python3.11/dist-packages (from nltk>=3.2.1->newspaper3k) (2024.11.6)\n",
            "Requirement already satisfied: tqdm in /usr/local/lib/python3.11/dist-packages (from nltk>=3.2.1->newspaper3k) (4.67.1)\n",
            "Requirement already satisfied: charset-normalizer<4,>=2 in /usr/local/lib/python3.11/dist-packages (from requests>=2.10.0->newspaper3k) (3.4.1)\n",
            "Requirement already satisfied: urllib3<3,>=1.21.1 in /usr/local/lib/python3.11/dist-packages (from requests>=2.10.0->newspaper3k) (2.3.0)\n",
            "Requirement already satisfied: certifi>=2017.4.17 in /usr/local/lib/python3.11/dist-packages (from requests>=2.10.0->newspaper3k) (2025.1.31)\n",
            "Downloading newspaper3k-0.2.8-py3-none-any.whl (211 kB)\n",
            "\u001b[2K   \u001b[90m━━━━━━━━━━━━━━━━━━━━━━━━━━━━━━━━━━━━━━━━\u001b[0m \u001b[32m211.1/211.1 kB\u001b[0m \u001b[31m18.3 MB/s\u001b[0m eta \u001b[36m0:00:00\u001b[0m\n",
            "\u001b[?25hDownloading tldextract-5.1.3-py3-none-any.whl (104 kB)\n",
            "\u001b[2K   \u001b[90m━━━━━━━━━━━━━━━━━━━━━━━━━━━━━━━━━━━━━━━━\u001b[0m \u001b[32m104.9/104.9 kB\u001b[0m \u001b[31m10.5 MB/s\u001b[0m eta \u001b[36m0:00:00\u001b[0m\n",
            "\u001b[?25hDownloading cssselect-1.3.0-py3-none-any.whl (18 kB)\n",
            "Downloading feedparser-6.0.11-py3-none-any.whl (81 kB)\n",
            "\u001b[2K   \u001b[90m━━━━━━━━━━━━━━━━━━━━━━━━━━━━━━━━━━━━━━━━\u001b[0m \u001b[32m81.3/81.3 kB\u001b[0m \u001b[31m7.6 MB/s\u001b[0m eta \u001b[36m0:00:00\u001b[0m\n",
            "\u001b[?25hDownloading requests_file-2.1.0-py2.py3-none-any.whl (4.2 kB)\n",
            "Building wheels for collected packages: tinysegmenter, feedfinder2, jieba3k, sgmllib3k\n",
            "  Building wheel for tinysegmenter (setup.py) ... \u001b[?25l\u001b[?25hdone\n",
            "  Created wheel for tinysegmenter: filename=tinysegmenter-0.3-py3-none-any.whl size=13540 sha256=be1f0d334ced4f67f5b5e69d72c19b18a5d42ba9aecd04f590e182b0340b8263\n",
            "  Stored in directory: /root/.cache/pip/wheels/fc/ab/f8/cce3a9ae6d828bd346be695f7ff54612cd22b7cbd7208d68f3\n",
            "  Building wheel for feedfinder2 (setup.py) ... \u001b[?25l\u001b[?25hdone\n",
            "  Created wheel for feedfinder2: filename=feedfinder2-0.0.4-py3-none-any.whl size=3341 sha256=a19265bbd31561aa251fe36d90e5e18d0d8ba23193cf87fb2282af4c57878d30\n",
            "  Stored in directory: /root/.cache/pip/wheels/80/d5/72/9cd9eccc819636436c6a6e59c22a0fb1ec167beef141f56491\n",
            "  Building wheel for jieba3k (setup.py) ... \u001b[?25l\u001b[?25hdone\n",
            "  Created wheel for jieba3k: filename=jieba3k-0.35.1-py3-none-any.whl size=7398380 sha256=dfc4070089289910a4c3320e808b5ec5b71963b4683f8d2dd5141ab9862138a4\n",
            "  Stored in directory: /root/.cache/pip/wheels/3a/a1/46/8e68055c1713f9c4598774c15ad0541f26d5425ee7423b6493\n",
            "  Building wheel for sgmllib3k (setup.py) ... \u001b[?25l\u001b[?25hdone\n",
            "  Created wheel for sgmllib3k: filename=sgmllib3k-1.0.0-py3-none-any.whl size=6046 sha256=e9b660e24d7b6eee3daa77d6797a5004f7d6e4a925489b29a0d2798447dc82b1\n",
            "  Stored in directory: /root/.cache/pip/wheels/3b/25/2a/105d6a15df6914f4d15047691c6c28f9052cc1173e40285d03\n",
            "Successfully built tinysegmenter feedfinder2 jieba3k sgmllib3k\n",
            "Installing collected packages: tinysegmenter, sgmllib3k, jieba3k, feedparser, cssselect, requests-file, feedfinder2, tldextract, newspaper3k\n",
            "Successfully installed cssselect-1.3.0 feedfinder2-0.0.4 feedparser-6.0.11 jieba3k-0.35.1 newspaper3k-0.2.8 requests-file-2.1.0 sgmllib3k-1.0.0 tinysegmenter-0.3 tldextract-5.1.3\n",
            "Requirement already satisfied: lxml[html_clean] in /usr/local/lib/python3.11/dist-packages (5.3.1)\n",
            "Requirement already satisfied: lxml_html_clean in /usr/local/lib/python3.11/dist-packages (from lxml[html_clean]) (0.4.1)\n"
          ]
        }
      ]
    },
    {
      "cell_type": "code",
      "source": [
        "import nltk\n",
        "nltk.download('punkt')\n"
      ],
      "metadata": {
        "colab": {
          "base_uri": "https://localhost:8080/"
        },
        "id": "m046uMNWbmKt",
        "outputId": "2e940554-f606-4199-8799-7dbd4e1fc624"
      },
      "execution_count": 5,
      "outputs": [
        {
          "output_type": "stream",
          "name": "stderr",
          "text": [
            "[nltk_data] Downloading package punkt to /root/nltk_data...\n",
            "[nltk_data]   Unzipping tokenizers/punkt.zip.\n"
          ]
        },
        {
          "output_type": "execute_result",
          "data": {
            "text/plain": [
              "True"
            ]
          },
          "metadata": {},
          "execution_count": 5
        }
      ]
    },
    {
      "cell_type": "code",
      "source": [
        "from newspaper import Article\n",
        "import tldextract\n",
        "from datetime import datetime\n",
        "\n",
        "url = \"https://elpais.com/america/2025-03-25/boluarte-convoca-a-elecciones-en-peru-para-abril-de-2026-hay-que-poner-fin-al-periodo-de-inestabilidad.html\"\n",
        "\n",
        "article = Article(url, language='es')\n",
        "article.download()\n",
        "article.parse()\n",
        "\n",
        "# Indicadores manuales\n",
        "allowed_domains = ['elpais.com', 'rpp.pe', 'gestion.pe', 'bbc.com']\n",
        "domain = tldextract.extract(url).registered_domain\n",
        "fuente_confiable = domain in allowed_domains\n",
        "\n",
        "fecha_publicacion = article.publish_date\n",
        "es_fecha_reciente = False\n",
        "if fecha_publicacion:\n",
        "    diferencia_dias = (datetime.now() - fecha_publicacion).days\n",
        "    es_fecha_reciente = diferencia_dias <= 30\n",
        "\n",
        "autor_presente = len(article.authors) > 0\n",
        "num_palabras = len(article.text.split())\n",
        "texto_suficiente = num_palabras >= 300\n",
        "idioma_correcto = article.meta_lang == 'es'\n",
        "texto_disponible = len(article.text.strip()) > 0\n",
        "\n",
        "# Mostrar resultados\n",
        "print(\"📊 Indicadores de calidad:\")\n",
        "print(f\"- Fuente confiable: {'✔️' if fuente_confiable else '❌'} ({domain})\")\n",
        "print(f\"- Fecha presente: {'✔️' if fecha_publicacion else '❌'} ({fecha_publicacion})\")\n",
        "print(f\"- Fecha reciente (<30 días): {'✔️' if es_fecha_reciente else '❌'}\")\n",
        "print(f\"- Autor identificado: {'✔️' if autor_presente else '❌'} ({article.authors})\")\n",
        "print(f\"- Texto suficiente (>300 palabras): {'✔️' if texto_suficiente else '❌'} ({num_palabras} palabras)\")\n",
        "print(f\"- Idioma correcto (español): {'✔️' if idioma_correcto else '❌'} ({article.meta_lang})\")\n",
        "print(f\"- Texto descargado correctamente: {'✔️' if texto_disponible else '❌'}\")\n",
        "from newspaper import Article\n",
        "import tldextract\n",
        "from datetime import datetime\n",
        "\n",
        "url = \"https://elpais.com/america/2025-03-25/boluarte-convoca-a-elecciones-en-peru-para-abril-de-2026-hay-que-poner-fin-al-periodo-de-inestabilidad.html\"\n",
        "\n",
        "article = Article(url, language='es')\n",
        "article.download()\n",
        "article.parse()\n",
        "\n",
        "# Indicadores manuales\n",
        "allowed_domains = ['elpais.com', 'rpp.pe', 'gestion.pe', 'bbc.com']\n",
        "domain = tldextract.extract(url).registered_domain\n",
        "fuente_confiable = domain in allowed_domains\n",
        "\n",
        "fecha_publicacion = article.publish_date\n",
        "es_fecha_reciente = False\n",
        "if fecha_publicacion:\n",
        "    diferencia_dias = (datetime.now() - fecha_publicacion).days\n",
        "    es_fecha_reciente = diferencia_dias <= 30\n",
        "\n",
        "autor_presente = len(article.authors) > 0\n",
        "num_palabras = len(article.text.split())\n",
        "texto_suficiente = num_palabras >= 300\n",
        "idioma_correcto = article.meta_lang == 'es'\n",
        "texto_disponible = len(article.text.strip()) > 0\n",
        "\n",
        "# Mostrar resultados\n",
        "print(\"📊 Indicadores de calidad:\")\n",
        "print(f\"- Fuente confiable: {'✔️' if fuente_confiable else '❌'} ({domain})\")\n",
        "print(f\"- Fecha presente: {'✔️' if fecha_publicacion else '❌'} ({fecha_publicacion})\")\n",
        "print(f\"- Fecha reciente (<30 días): {'✔️' if es_fecha_reciente else '❌'}\")\n",
        "print(f\"- Autor identificado: {'✔️' if autor_presente else '❌'} ({article.authors})\")\n",
        "print(f\"- Texto suficiente (>300 palabras): {'✔️' if texto_suficiente else '❌'} ({num_palabras} palabras)\")\n",
        "print(f\"- Idioma correcto (español): {'✔️' if idioma_correcto else '❌'} ({article.meta_lang})\")\n",
        "print(f\"- Texto descargado correctamente: {'✔️' if texto_disponible else '❌'}\")\n"
      ],
      "metadata": {
        "colab": {
          "base_uri": "https://localhost:8080/"
        },
        "id": "5lMqEnLrbrda",
        "outputId": "9515e65f-1829-4310-d553-6afced232280"
      },
      "execution_count": 6,
      "outputs": [
        {
          "output_type": "stream",
          "name": "stdout",
          "text": [
            "📊 Indicadores de calidad:\n",
            "- Fuente confiable: ✔️ (elpais.com)\n",
            "- Fecha presente: ✔️ (2025-03-25 00:00:00)\n",
            "- Fecha reciente (<30 días): ✔️\n",
            "- Autor identificado: ✔️ (['Renzo Gómez Vega', 'Ver Biografía'])\n",
            "- Texto suficiente (>300 palabras): ✔️ (600 palabras)\n",
            "- Idioma correcto (español): ✔️ (es)\n",
            "- Texto descargado correctamente: ✔️\n",
            "📊 Indicadores de calidad:\n",
            "- Fuente confiable: ✔️ (elpais.com)\n",
            "- Fecha presente: ✔️ (2025-03-25 00:00:00)\n",
            "- Fecha reciente (<30 días): ✔️\n",
            "- Autor identificado: ✔️ (['Renzo Gómez Vega', 'Ver Biografía'])\n",
            "- Texto suficiente (>300 palabras): ✔️ (600 palabras)\n",
            "- Idioma correcto (español): ✔️ (es)\n",
            "- Texto descargado correctamente: ✔️\n"
          ]
        }
      ]
    },
    {
      "cell_type": "markdown",
      "source": [
        "EXPLICACIÓN DE INDICADORES DE CALIDAD:\n",
        "Validar si la fuente elegida es confiable (URL)\n",
        "Validar que la noticia seleccionanda no sea de una fecha tan antigua.\n",
        "Validar que la noticia haya siddo publicada en los últimos 30 días.\n",
        "Validar que se haya cargado el 100% de la información que se presenta en la noticia."
      ],
      "metadata": {
        "id": "CyCZoiwKkjAd"
      }
    }
  ]
}
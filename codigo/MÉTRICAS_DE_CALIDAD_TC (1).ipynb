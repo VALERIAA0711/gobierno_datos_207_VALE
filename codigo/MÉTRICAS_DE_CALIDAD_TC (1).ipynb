{
  "nbformat": 4,
  "nbformat_minor": 0,
  "metadata": {
    "colab": {
      "provenance": []
    },
    "kernelspec": {
      "name": "python3",
      "display_name": "Python 3"
    },
    "language_info": {
      "name": "python"
    }
  },
  "cells": [
    {
      "cell_type": "code",
      "execution_count": 1,
      "metadata": {
        "colab": {
          "base_uri": "https://localhost:8080/"
        },
        "id": "UpA4s3RIbAvO",
        "outputId": "bfd1b619-37ec-4ff5-83d4-ff63fe43d9ec"
      },
      "outputs": [
        {
          "output_type": "stream",
          "name": "stdout",
          "text": [
            "1. Valores faltantes:\n",
            " Fecha        0\n",
            "TC Compra    0\n",
            "TC Venta     0\n",
            "dtype: int64\n",
            "\n",
            "2. Fechas inválidas: 27\n",
            "\n",
            "3. 'TC Compra' no numéricos: 1\n",
            "   'TC Venta' no numéricos: 1\n",
            "\n",
            "4. Fuente certificada/documentada: No\n"
          ]
        }
      ],
      "source": [
        "import pandas as pd\n",
        "\n",
        "# Cargar el archivo\n",
        "df = pd.read_excel(\"TC OK.xlsx\", sheet_name=\"Diarias\")\n",
        "\n",
        "# Quitar primera fila que es metadato\n",
        "df = df.iloc[1:].reset_index(drop=True)\n",
        "df.columns = [\"Fecha\", \"TC Compra\", \"TC Venta\"]\n",
        "\n",
        "# 1. Verificar valores en blanco\n",
        "missing_data = df.isnull().sum()\n",
        "\n",
        "# 2. Validar fecha\n",
        "def parse_fecha(f):\n",
        "    try:\n",
        "        return pd.to_datetime(f, format=\"%d%b%y\", errors=\"coerce\")\n",
        "    except:\n",
        "        return pd.NaT\n",
        "\n",
        "df[\"Fecha\"] = df[\"Fecha\"].apply(parse_fecha)\n",
        "fechas_invalidas = df[\"Fecha\"].isna().sum()\n",
        "\n",
        "# 3. Convertir TC a numérico\n",
        "df[\"TC Compra\"] = pd.to_numeric(df[\"TC Compra\"], errors=\"coerce\")\n",
        "df[\"TC Venta\"] = pd.to_numeric(df[\"TC Venta\"], errors=\"coerce\")\n",
        "\n",
        "# Contar valores no numéricos\n",
        "compra_invalidos = df[\"TC Compra\"].isna().sum()\n",
        "venta_invalidos = df[\"TC Venta\"].isna().sum()\n",
        "\n",
        "# 4. Fuente documentada\n",
        "fuente_documentada = \"Sí\" if \"Interbancario\" in str(df.iloc[0].to_string()) else \"No\"\n",
        "\n",
        "# Mostrar resultados\n",
        "print(\"1. Valores faltantes:\\n\", missing_data)\n",
        "print(f\"\\n2. Fechas inválidas: {fechas_invalidas}\")\n",
        "print(f\"\\n3. 'TC Compra' no numéricos: {compra_invalidos}\")\n",
        "print(f\"   'TC Venta' no numéricos: {venta_invalidos}\")\n",
        "print(f\"\\n4. Fuente certificada/documentada: {fuente_documentada}\")"
      ]
    },
    {
      "cell_type": "markdown",
      "source": [
        "EXPLICACIÓN DE INDICADORES DE CALIDAD:\n",
        "\n",
        "Faltan datos de tipo de cambio? nos permite validad si la data está 100% coompleta para poder realizar correctamente nuestro análisis.\n",
        "\n",
        "Validar que los datos que se muestran son númericos y no figuran como texto.\n",
        "\n",
        "Validar que el formato de fecha sea correcto."
      ],
      "metadata": {
        "id": "bAKp773VjuwT"
      }
    }
  ]
}